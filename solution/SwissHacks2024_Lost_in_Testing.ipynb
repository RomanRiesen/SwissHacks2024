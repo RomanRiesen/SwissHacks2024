{
  "cells": [
    {
      "cell_type": "code",
      "execution_count": 34,
      "metadata": {
        "id": "Qa6UJOo06c-p"
      },
      "outputs": [],
      "source": [
        "\n",
        "import requests\n",
        "import traceback\n",
        "import re\n",
        "\n",
        "OPENAI_KEY = \"sk-swiss-hacks-group-1-HkjNHMpBPeCLmqB2ykTIT3BlbkFJ55ygWdVAOiShzfxg2fN7\""
      ]
    },
    {
      "cell_type": "code",
      "execution_count": 2,
      "metadata": {},
      "outputs": [],
      "source": [
        "#What are the chances gpt will understand this?\n",
        "test_users = \"\"\"\\\n",
        "| Username    | Password          | Role  |\n",
        "|-------------|-------------------|-------|\n",
        "| john.doe    | strong-password   | User  |\n",
        "| jane.smith  | you-dont-guess-me | User  |\n",
        "| jimmy.allen | secure-secret     | Admin |\n",
        "\"\"\""
      ]
    },
    {
      "cell_type": "code",
      "execution_count": 3,
      "metadata": {},
      "outputs": [],
      "source": [
        "app_under_testing_path = \"../postfinance/source\"\n",
        "yaml_path = app_under_testing_path + \"/src/main/resources/openapi/openapi.yml\"\n",
        "requirements_path = app_under_testing_path + \"/spec/Requirements.md\""
      ]
    },
    {
      "cell_type": "code",
      "execution_count": 4,
      "metadata": {},
      "outputs": [
        {
          "name": "stdout",
          "output_type": "stream",
          "text": [
            "User Story 1: Customer Registration\n",
            "As a new customer, I want to register for an online banking account so that I can access banking services.\n",
            "\n",
            "\n",
            "- **Given** I am not registered to the online banking service\n",
            "- **When** I navigate to the bank's registration page\n",
            "- **And** submit my firstname, lastname and birthdate\n",
            "- **Then** I receive confirmation of successful registration in form of a username and password\n",
            "\n",
            "User Story 2: Customer Login\n",
            "As a registered customer, I want to be able to log into my online banking account.\n",
            "\n",
            "\n",
            "- **Given** I am registered to the online banking service\n",
            "- **When** I navigate to the bank's login page\n",
            "- **And** submit a valid combination of username and password\n",
            "- **Then** I am logged in\n",
            "- **And** being redirected to my homepage\n",
            "\n",
            "User Story 3: Account Balance Check\n",
            "As a customer, I want to check my account balance online to monitor my finances.\n",
            "\n",
            "\n",
            "- **Given** I am logged into my online banking account\n",
            "- **When** I am visiting my homepage\n",
            "- **Then** I should see a list of all my accounts and their balance\n",
            "\n",
            "User Story 4: Add account\n",
            "As a customer, I want to be able to add a new account, so I can have accounts for multiple different purposes.\n",
            "\n",
            "\n",
            "- **Given** I am logged into my online banking account\n",
            "- **When** I am visiting my homepage\n",
            "- **And** open a new account\n",
            "- **Then** A new account with 0 balance will be related to my login\n",
            "\n",
            "TODO: User Story 5: Delete account\n",
            "As a customer, I want to be able to delete any of my accounts, so I can keep a purposeful portfolio.\n",
            "\n",
            "\n",
            "- **Given** I am logged into my online banking account\n",
            "- **When** I am visiting my homepage\n",
            "- **And** decide to delete one of my accounts\n",
            "- **And** have to specify the account which the current deposit will be transferred to\n",
            "- **Then** that account will be deleted\n",
            "- **And** the funds should be transferred successfully\n",
            "\n",
            "User Story 6: Fund Transfer\n",
            "As a customer, I want to transfer funds between my accounts or to another account online.\n",
            "\n",
            "\n",
            "- **Given** I am logged into my online banking account\n",
            "- **When** I choose to transfer money\n",
            "- **And** submit the recipient IBAN and amount of swiss francs\n",
            "- **Then** the funds should be transferred successfully\n",
            "- **And** I receive confirmation of the transaction\n",
            "\n",
            "User Story 7: Online Banking Account Transaction History\n",
            "As a customer, I want to view my transaction history for tracking purposes.\n",
            "\n",
            "\n",
            "- **Given** I am logged into my online banking account\n",
            "- **When** I navigate to the transaction history page\n",
            "- **Then** I should see a list of all my transactions\n",
            "\n",
            "User Story 8: Transaction History\n",
            "As a bank advisor, I want to view a global transaction history for tracking purposes.\n",
            "\n",
            "\n",
            "- **Given** I am logged into my advisor account\n",
            "- **When** I navigate to the transaction history page\n",
            "- **Then** I should be presented a list of all transactions\n",
            "\n",
            "TODO: User Story 9: Account Overview\n",
            "As a bank advisor, I want to have a list of all available accounts, so that I can help customers.\n",
            "\n",
            "\n",
            "- **Given** I am logged into my advisor account\n",
            "- **When** I navigate to the account overview page\n",
            "- **Then** I should be presented a list of all customer accounts\n",
            "\n",
            "TODO User Story 10: Change Password\n",
            "As a customer, I want to change my online banking password for security reasons.\n",
            "\n",
            "\n",
            "- **Given** I am logged into my online banking account\n",
            "- **When** I navigate to the settings page\n",
            "- **And** submit my current password, new password and confirmation of the new password\n",
            "- **Then** my password should be updated successfully\n",
            "\n",
            "User Story 11: Customer Support\n",
            "As a customer, I want to have the possibility to contact the online banking account, so that I receive help when I need it.\n",
            "\n",
            "\n",
            "- **Given** I am on the homepage\n",
            "- **When** I navigate to the support page\n",
            "- **Then** I am presented a list of contact E-Mails and Phone-numbers\n",
            "\n"
          ]
        }
      ],
      "source": [
        "#TODO search common endpoints for yaml\n",
        "with open(requirements_path, 'r') as file:\n",
        "    stories = file.read().split(\"\\n## \")[1:]\n",
        "    stories = [[y for y in x.split(\"\\n### Scenario:\") if y != \"\"] for x in stories]\n",
        "    for story in stories:\n",
        "        print(\"\\n\".join(story))"
      ]
    },
    {
      "cell_type": "code",
      "execution_count": 5,
      "metadata": {},
      "outputs": [
        {
          "ename": "AssertionError",
          "evalue": "",
          "output_type": "error",
          "traceback": [
            "\u001b[0;31m---------------------------------------------------------------------------\u001b[0m",
            "\u001b[0;31mAssertionError\u001b[0m                            Traceback (most recent call last)",
            "Cell \u001b[0;32mIn[5], line 32\u001b[0m\n\u001b[1;32m     29\u001b[0m     \u001b[38;5;66;03m# Assert that the username is a combination of the first name and last name\u001b[39;00m\n\u001b[1;32m     30\u001b[0m     \u001b[38;5;28;01massert\u001b[39;00m response_data[\u001b[38;5;124m\"\u001b[39m\u001b[38;5;124musername\u001b[39m\u001b[38;5;124m\"\u001b[39m] \u001b[38;5;241m==\u001b[39m \u001b[38;5;124m\"\u001b[39m\u001b[38;5;124mjohn.doe\u001b[39m\u001b[38;5;124m\"\u001b[39m\n\u001b[0;32m---> 32\u001b[0m \u001b[43mtest_customer_registration_success\u001b[49m\u001b[43m(\u001b[49m\u001b[43m)\u001b[49m\n",
            "Cell \u001b[0;32mIn[5], line 20\u001b[0m, in \u001b[0;36mtest_customer_registration_success\u001b[0;34m()\u001b[0m\n\u001b[1;32m     17\u001b[0m response \u001b[38;5;241m=\u001b[39m requests\u001b[38;5;241m.\u001b[39mpost(url, headers\u001b[38;5;241m=\u001b[39mheaders, data\u001b[38;5;241m=\u001b[39mdata, timeout\u001b[38;5;241m=\u001b[39m\u001b[38;5;241m5\u001b[39m)\n\u001b[1;32m     19\u001b[0m \u001b[38;5;66;03m# Assert that the API returns a 201 Created status code\u001b[39;00m\n\u001b[0;32m---> 20\u001b[0m \u001b[38;5;28;01massert\u001b[39;00m response\u001b[38;5;241m.\u001b[39mstatus_code \u001b[38;5;241m==\u001b[39m \u001b[38;5;241m201\u001b[39m\n\u001b[1;32m     22\u001b[0m \u001b[38;5;66;03m# Parse the response JSON\u001b[39;00m\n\u001b[1;32m     23\u001b[0m response_data \u001b[38;5;241m=\u001b[39m json\u001b[38;5;241m.\u001b[39mloads(response\u001b[38;5;241m.\u001b[39mtext)\n",
            "\u001b[0;31mAssertionError\u001b[0m: "
          ]
        }
      ],
      "source": [
        "\n",
        "import requests\n",
        "import json\n",
        "\n",
        "def test_customer_registration_success():\n",
        "    # Set up the API endpoint and test data\n",
        "    url = \"http://localhost:8080/customers/register\"\n",
        "    headers = {\"Content-Type\": \"application/json\"}\n",
        "\n",
        "    # Use valid user credentials from the table\n",
        "    data = json.dumps({\n",
        "        \"firstName\": \"John\",\n",
        "        \"lastName\": \"Doe\",\n",
        "        \"dateOfBirth\": \"1990-01-01\"\n",
        "    })\n",
        "\n",
        "    # Send the registration request\n",
        "    response = requests.post(url, headers=headers, data=data, timeout=5)\n",
        "\n",
        "    # Assert that the API returns a 201 Created status code\n",
        "    assert response.status_code == 201\n",
        "\n",
        "    # Parse the response JSON\n",
        "    response_data = json.loads(response.text)\n",
        "\n",
        "    # Assert that the response includes a username and password\n",
        "    assert \"username\" in response_data\n",
        "    assert \"password\" in response_data\n",
        "\n",
        "    # Assert that the username is a combination of the first name and last name\n",
        "    assert response_data[\"username\"] == \"john.doe\"\n",
        "\n",
        "test_customer_registration_success()"
      ]
    },
    {
      "cell_type": "code",
      "execution_count": 44,
      "metadata": {},
      "outputs": [],
      "source": [
        "\n",
        "def remove_lines_until_first_function(code):\n",
        "    # Find the index of the first function name\n",
        "    function_name_index = re.search(r'def .*:', code).end()\n",
        "\n",
        "    # Remove the lines up to the end of the first function name\n",
        "    code = code[function_name_index:]\n",
        "\n",
        "    # Un-indent the code\n",
        "    #code = re.sub(r'^ {4}', '', code, flags=re.MULTILINE)\n",
        "\n",
        "    code = \"ret = True\\ntry: \" + code + \"except AssertionError as e: ret = traceback.format_exception(e)\\n\"\n",
        "\n",
        "    return code"
      ]
    },
    {
      "cell_type": "code",
      "execution_count": 45,
      "metadata": {},
      "outputs": [],
      "source": [
        "\n",
        "test1 = \"\"\"\n",
        "import requests\n",
        "import json\n",
        "\n",
        "def test_customer_registration_exceeds_max_length():\n",
        "    # Set up the API endpoint and test data\n",
        "    url = \"http://localhost:8080/customers/register\"\n",
        "    headers = {\"Content-Type\": \"application/json\"}\n",
        "\n",
        "    # Test first name exceeds max length\n",
        "    data = json.dumps({\n",
        "        \"firstName\": \"a\" * 33,\n",
        "        \"lastName\": \"Doe\",\n",
        "        \"dateOfBirth\": \"1990-01-01\"\n",
        "    })\n",
        "    response = requests.post(url, headers=headers, data=data)\n",
        "    assert response.status_code == 400\n",
        "\n",
        "    # Test last name exceeds max length\n",
        "    data = json.dumps({\n",
        "        \"firstName\": \"John\",\n",
        "        \"lastName\": \"a\" * 33,\n",
        "        \"dateOfBirth\": \"1990-01-01\"\n",
        "    })\n",
        "    response = requests.post(url, headers=headers, data=data)\n",
        "    assert response.status_code == 400\n",
        "\"\"\"\n",
        "\n",
        "\n",
        "tests = list(map(remove_lines_until_first_function, [test1]))"
      ]
    },
    {
      "cell_type": "code",
      "execution_count": 46,
      "metadata": {},
      "outputs": [],
      "source": [
        "\n",
        "from openai import OpenAI\n",
        "\n",
        "def send_to_gpt(prompt : str, top_p : float = 0.1, temperature : float = 0.7, context = [{\"role\": \"user\", \"content\": \"You are an experienced tester.\"}]):\n",
        "  client = OpenAI(api_key=OPENAI_KEY)\n",
        "\n",
        "  response = client.chat.completions.create(\n",
        "    model = \"gpt-4-turbo\",\n",
        "    top_p = top_p,\n",
        "    temperature = temperature,\n",
        "    messages = context + [{\"role\": \"user\", \"content\": prompt}]\n",
        "  )\n",
        "  return response.choices[0].message.content"
      ]
    },
    {
      "cell_type": "code",
      "execution_count": 42,
      "metadata": {},
      "outputs": [
        {
          "data": {
            "text/plain": [
              "'Hello! How can I assist you today?'"
            ]
          },
          "execution_count": 42,
          "metadata": {},
          "output_type": "execute_result"
        }
      ],
      "source": [
        "send_to_gpt(\"hello\")"
      ]
    },
    {
      "cell_type": "code",
      "execution_count": 47,
      "metadata": {},
      "outputs": [
        {
          "name": "stdout",
          "output_type": "stream",
          "text": [
            "test 0 failed with ['Traceback (most recent call last):\\n', '  File \"<string>\", line 14, in <module>\\n', 'AssertionError\\n']\n",
            "0 passed\n"
          ]
        }
      ],
      "source": [
        "#Running the generated tests\n",
        "for i, test in enumerate(tests):\n",
        "    #TODO restart the docker\n",
        "    #types of failure:\n",
        "    #   syntax -> gpt failed\n",
        "    #   assertion -> test failed\n",
        "    try:\n",
        "        exec(test)\n",
        "        ret = locals()[\"ret\"]\n",
        "        if ret != True:\n",
        "            print(f\"test {i} failed with {ret}\")\n",
        "        continue\n",
        "    except SyntaxError as e:\n",
        "        print(f\"gpt failed to generate valid test for test {i}:\\n   {e}\")\n",
        "        continue\n",
        "\n",
        "print(f\"{i} passed\")\n",
        "\n",
        " \n"
      ]
    },
    {
      "cell_type": "markdown",
      "metadata": {
        "id": "wp1dPUYQ6dX8"
      },
      "source": [
        "# Pseudocode for prompt enginering\n",
        "\n",
        "`k` number of test cases to generate (for quorum, trying to avoid hallucinations)\n",
        "\n",
        "`T` temperature param of generation\n",
        "\n",
        "        parse user stories into a list\n",
        "        for each user story:\n",
        "          ask gpt for test ideas\n",
        "          CONTEXT: in context, formatted examples of test ideas for stories\n",
        "          for each test idea:\n",
        "              ask gpt k times for the test # k = 1 if T = 0\n",
        "              CONTEXT: default user definition, openAPI spec, in context examples\n",
        "        run tests\n",
        "        if number_successes == k: pass ✅\n",
        "        if number_successes == 0: fail ❌\n",
        "        otherwise: gpt error 🤯\n",
        "\n",
        "\n",
        "nice to have: detect syntax errors in running tests and report gpt failure\n",
        "\n",
        "\n"
      ]
    }
  ],
  "metadata": {
    "colab": {
      "provenance": []
    },
    "kernelspec": {
      "display_name": "Python 3",
      "name": "python3"
    },
    "language_info": {
      "codemirror_mode": {
        "name": "ipython",
        "version": 3
      },
      "file_extension": ".py",
      "mimetype": "text/x-python",
      "name": "python",
      "nbconvert_exporter": "python",
      "pygments_lexer": "ipython3",
      "version": "3.12.4"
    }
  },
  "nbformat": 4,
  "nbformat_minor": 0
}
