{
  "cells": [
    {
      "cell_type": "code",
      "execution_count": 1,
      "metadata": {
        "id": "Qa6UJOo06c-p"
      },
      "outputs": [],
      "source": [
        "\n",
        "import requests\n"
      ]
    },
    {
      "cell_type": "code",
      "execution_count": 2,
      "metadata": {},
      "outputs": [],
      "source": [
        "#What are the chances gpt will understand this?\n",
        "test_users = \"\"\"\\\n",
        "| Username    | Password          | Role  |\n",
        "|-------------|-------------------|-------|\n",
        "| john.doe    | strong-password   | User  |\n",
        "| jane.smith  | you-dont-guess-me | User  |\n",
        "| jimmy.allen | secure-secret     | Admin |\n",
        "\"\"\""
      ]
    },
    {
      "cell_type": "code",
      "execution_count": 2,
      "metadata": {},
      "outputs": [],
      "source": [
        "app_under_testing_path = \"../postfinance/source\"\n",
        "yaml_path = app_under_testing_path + \"/src/main/resources/openapi/openapi.yml\"\n",
        "requirements_path = app_under_testing_path + \"/spec/Requirements.md\""
      ]
    },
    {
      "cell_type": "code",
      "execution_count": 21,
      "metadata": {},
      "outputs": [
        {
          "name": "stdout",
          "output_type": "stream",
          "text": [
            "User Story 1: Customer Registration\n",
            "As a new customer, I want to register for an online banking account so that I can access banking services.\n",
            "\n",
            "\n",
            "- **Given** I am not registered to the online banking service\n",
            "- **When** I navigate to the bank's registration page\n",
            "- **And** submit my firstname, lastname and birthdate\n",
            "- **Then** I receive confirmation of successful registration in form of a username and password\n",
            "\n",
            "User Story 2: Customer Login\n",
            "As a registered customer, I want to be able to log into my online banking account.\n",
            "\n",
            "\n",
            "- **Given** I am registered to the online banking service\n",
            "- **When** I navigate to the bank's login page\n",
            "- **And** submit a valid combination of username and password\n",
            "- **Then** I am logged in\n",
            "- **And** being redirected to my homepage\n",
            "\n",
            "User Story 3: Account Balance Check\n",
            "As a customer, I want to check my account balance online to monitor my finances.\n",
            "\n",
            "\n",
            "- **Given** I am logged into my online banking account\n",
            "- **When** I am visiting my homepage\n",
            "- **Then** I should see a list of all my accounts and their balance\n",
            "\n",
            "User Story 4: Add account\n",
            "As a customer, I want to be able to add a new account, so I can have accounts for multiple different purposes.\n",
            "\n",
            "\n",
            "- **Given** I am logged into my online banking account\n",
            "- **When** I am visiting my homepage\n",
            "- **And** open a new account\n",
            "- **Then** A new account with 0 balance will be related to my login\n",
            "\n",
            "TODO: User Story 5: Delete account\n",
            "As a customer, I want to be able to delete any of my accounts, so I can keep a purposeful portfolio.\n",
            "\n",
            "\n",
            "- **Given** I am logged into my online banking account\n",
            "- **When** I am visiting my homepage\n",
            "- **And** decide to delete one of my accounts\n",
            "- **And** have to specify the account which the current deposit will be transferred to\n",
            "- **Then** that account will be deleted\n",
            "- **And** the funds should be transferred successfully\n",
            "\n",
            "User Story 6: Fund Transfer\n",
            "As a customer, I want to transfer funds between my accounts or to another account online.\n",
            "\n",
            "\n",
            "- **Given** I am logged into my online banking account\n",
            "- **When** I choose to transfer money\n",
            "- **And** submit the recipient IBAN and amount of swiss francs\n",
            "- **Then** the funds should be transferred successfully\n",
            "- **And** I receive confirmation of the transaction\n",
            "\n",
            "User Story 7: Online Banking Account Transaction History\n",
            "As a customer, I want to view my transaction history for tracking purposes.\n",
            "\n",
            "\n",
            "- **Given** I am logged into my online banking account\n",
            "- **When** I navigate to the transaction history page\n",
            "- **Then** I should see a list of all my transactions\n",
            "\n",
            "User Story 8: Transaction History\n",
            "As a bank advisor, I want to view a global transaction history for tracking purposes.\n",
            "\n",
            "\n",
            "- **Given** I am logged into my advisor account\n",
            "- **When** I navigate to the transaction history page\n",
            "- **Then** I should be presented a list of all transactions\n",
            "\n",
            "TODO: User Story 9: Account Overview\n",
            "As a bank advisor, I want to have a list of all available accounts, so that I can help customers.\n",
            "\n",
            "\n",
            "- **Given** I am logged into my advisor account\n",
            "- **When** I navigate to the account overview page\n",
            "- **Then** I should be presented a list of all customer accounts\n",
            "\n",
            "TODO User Story 10: Change Password\n",
            "As a customer, I want to change my online banking password for security reasons.\n",
            "\n",
            "\n",
            "- **Given** I am logged into my online banking account\n",
            "- **When** I navigate to the settings page\n",
            "- **And** submit my current password, new password and confirmation of the new password\n",
            "- **Then** my password should be updated successfully\n",
            "\n",
            "User Story 11: Customer Support\n",
            "As a customer, I want to have the possibility to contact the online banking account, so that I receive help when I need it.\n",
            "\n",
            "\n",
            "- **Given** I am on the homepage\n",
            "- **When** I navigate to the support page\n",
            "- **Then** I am presented a list of contact E-Mails and Phone-numbers\n",
            "\n"
          ]
        }
      ],
      "source": [
        "#TODO search common endpoints for yaml\n",
        "with open(requirements_path, 'r') as file:\n",
        "    stories = file.read().split(\"\\n## \")[1:]\n",
        "    stories = [[y for y in x.split(\"\\n### Scenario:\") if y != \"\"] for x in stories]\n",
        "    for story in stories:\n",
        "        print(\"\\n\".join(story))"
      ]
    },
    {
      "cell_type": "markdown",
      "metadata": {
        "id": "wp1dPUYQ6dX8"
      },
      "source": [
        "# Pseudocode for prompt enginering\n",
        "\n",
        "`k` number of test cases to generate (for quorum, trying to avoid hallucinations)\n",
        "\n",
        "`T` temperature param of generation\n",
        "\n",
        "        parse user stories into a list\n",
        "        for each user story:\n",
        "          ask gpt for test ideas\n",
        "          CONTEXT: in context, formatted examples of test ideas for stories\n",
        "          for each test idea:\n",
        "              ask gpt k times for the test # k = 1 if T = 0\n",
        "              CONTEXT: default user definition, openAPI spec, in context examples\n",
        "        run tests\n",
        "        if number_successes == k: pass ✅\n",
        "        if number_successes == 0: fail ❌\n",
        "        otherwise: gpt error 🤯\n",
        "\n",
        "\n",
        "nice to have: detect syntax errors in running tests and report gpt failure\n",
        "\n",
        "\n"
      ]
    }
  ],
  "metadata": {
    "colab": {
      "provenance": []
    },
    "kernelspec": {
      "display_name": "Python 3",
      "name": "python3"
    },
    "language_info": {
      "codemirror_mode": {
        "name": "ipython",
        "version": 3
      },
      "file_extension": ".py",
      "mimetype": "text/x-python",
      "name": "python",
      "nbconvert_exporter": "python",
      "pygments_lexer": "ipython3",
      "version": "3.10.14"
    }
  },
  "nbformat": 4,
  "nbformat_minor": 0
}
